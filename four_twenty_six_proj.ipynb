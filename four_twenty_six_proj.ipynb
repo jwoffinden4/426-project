{
 "cells": [
  {
   "cell_type": "markdown",
   "metadata": {},
   "source": [
    "# STATE OF THE STATE ADDRESSES, TOPICS, AND POLITICAL PARTY TRENDS\n",
    "## Questions of interest:\n",
    "### 1) Are there any common themes, policies, or topics that are addressed by many or all states?\n",
    "### 2) Are there discrepancies in policy and protocol found in \"State of the State\" addresses that are connected to the governors' political affliation?"
   ]
  },
  {
   "cell_type": "code",
   "execution_count": 501,
   "metadata": {},
   "outputs": [],
   "source": [
    "import pandas as pd\n",
    "import matplotlib.pyplot as plt"
   ]
  },
  {
   "cell_type": "markdown",
   "metadata": {},
   "source": [
    "# Read in the data."
   ]
  },
  {
   "cell_type": "code",
   "execution_count": 459,
   "metadata": {},
   "outputs": [
    {
     "data": {
      "text/html": [
       "<div>\n",
       "<style scoped>\n",
       "    .dataframe tbody tr th:only-of-type {\n",
       "        vertical-align: middle;\n",
       "    }\n",
       "\n",
       "    .dataframe tbody tr th {\n",
       "        vertical-align: top;\n",
       "    }\n",
       "\n",
       "    .dataframe thead th {\n",
       "        text-align: right;\n",
       "    }\n",
       "</style>\n",
       "<table border=\"1\" class=\"dataframe\">\n",
       "  <thead>\n",
       "    <tr style=\"text-align: right;\">\n",
       "      <th></th>\n",
       "      <th>State</th>\n",
       "      <th>Governor</th>\n",
       "      <th>Party</th>\n",
       "      <th>Speech</th>\n",
       "    </tr>\n",
       "  </thead>\n",
       "  <tbody>\n",
       "    <tr>\n",
       "      <th>0</th>\n",
       "      <td>Alabama</td>\n",
       "      <td>Kay Ivey</td>\n",
       "      <td>Republican</td>\n",
       "      <td>Lieutenant Governor Ainsworth, Pro Tempore Mar...</td>\n",
       "    </tr>\n",
       "    <tr>\n",
       "      <th>1</th>\n",
       "      <td>Alabama</td>\n",
       "      <td>Kay Ivey</td>\n",
       "      <td>Republican</td>\n",
       "      <td>Just over 48 hours ago, Mother Nature’s wrath ...</td>\n",
       "    </tr>\n",
       "    <tr>\n",
       "      <th>2</th>\n",
       "      <td>Alabama</td>\n",
       "      <td>Kay Ivey</td>\n",
       "      <td>Republican</td>\n",
       "      <td>At least 23 innocent lives were lost.</td>\n",
       "    </tr>\n",
       "    <tr>\n",
       "      <th>3</th>\n",
       "      <td>Alabama</td>\n",
       "      <td>Kay Ivey</td>\n",
       "      <td>Republican</td>\n",
       "      <td>Young children who had barely experienced life.</td>\n",
       "    </tr>\n",
       "    <tr>\n",
       "      <th>4</th>\n",
       "      <td>Alabama</td>\n",
       "      <td>Kay Ivey</td>\n",
       "      <td>Republican</td>\n",
       "      <td>Mothers. Fathers. Friends and neighbors.</td>\n",
       "    </tr>\n",
       "  </tbody>\n",
       "</table>\n",
       "</div>"
      ],
      "text/plain": [
       "     State  Governor       Party  \\\n",
       "0  Alabama  Kay Ivey  Republican   \n",
       "1  Alabama  Kay Ivey  Republican   \n",
       "2  Alabama  Kay Ivey  Republican   \n",
       "3  Alabama  Kay Ivey  Republican   \n",
       "4  Alabama  Kay Ivey  Republican   \n",
       "\n",
       "                                              Speech  \n",
       "0  Lieutenant Governor Ainsworth, Pro Tempore Mar...  \n",
       "1  Just over 48 hours ago, Mother Nature’s wrath ...  \n",
       "2              At least 23 innocent lives were lost.  \n",
       "3    Young children who had barely experienced life.  \n",
       "4           Mothers. Fathers. Friends and neighbors.  "
      ]
     },
     "execution_count": 459,
     "metadata": {},
     "output_type": "execute_result"
    }
   ],
   "source": [
    "# Import the data\n",
    "gov = pd.read_csv('gov.csv', header = 0, sep = \",\")\n",
    "gov.head()"
   ]
  },
  {
   "cell_type": "code",
   "execution_count": 460,
   "metadata": {},
   "outputs": [
    {
     "data": {
      "text/plain": [
       "(6052, 4)"
      ]
     },
     "execution_count": 460,
     "metadata": {},
     "output_type": "execute_result"
    }
   ],
   "source": [
    "# View the shape of dataframe\n",
    "gov.shape"
   ]
  },
  {
   "cell_type": "code",
   "execution_count": 461,
   "metadata": {},
   "outputs": [
    {
     "data": {
      "text/plain": [
       "Republican    3383\n",
       "Democrat      2669\n",
       "Name: Party, dtype: int64"
      ]
     },
     "execution_count": 461,
     "metadata": {},
     "output_type": "execute_result"
    }
   ],
   "source": [
    "# View the demographics of the data\n",
    "gov['Party'].value_counts()"
   ]
  },
  {
   "cell_type": "markdown",
   "metadata": {},
   "source": [
    "# Clean the speech text."
   ]
  },
  {
   "cell_type": "code",
   "execution_count": 462,
   "metadata": {},
   "outputs": [
    {
     "name": "stdout",
     "output_type": "stream",
     "text": [
      "0\n",
      "0\n"
     ]
    }
   ],
   "source": [
    "# Check for missing values in 'label' variable\n",
    "print(sum(gov['Party'].isnull()))\n",
    "# No missing values to account for.\n",
    "\n",
    "# Check for missing values in 'review' variable\n",
    "print(sum(gov['Speech'].isnull()))\n",
    "# No missing values to account for."
   ]
  },
  {
   "cell_type": "code",
   "execution_count": 463,
   "metadata": {},
   "outputs": [],
   "source": [
    "# Filter dataset to use only \"Speech\" column for text editing\n",
    "speech = gov.copy()\n",
    "speech = speech['Speech']"
   ]
  },
  {
   "cell_type": "code",
   "execution_count": 464,
   "metadata": {},
   "outputs": [],
   "source": [
    "# Lowercase all words\n",
    "speech = speech.str.lower()"
   ]
  },
  {
   "cell_type": "code",
   "execution_count": 465,
   "metadata": {},
   "outputs": [],
   "source": [
    "# Remove puncutation:\n",
    "# Quotation Marks\n",
    "speech = speech.apply(lambda x: x.replace(\"'\", \"\"))\n",
    "# Question Marks\n",
    "speech = speech.apply(lambda x: x.replace(\"?\", \"\"))\n",
    "# Colons\n",
    "speech = speech.apply(lambda x: x.replace(\":\", \"\"))\n",
    "# Semicolons\n",
    "speech = speech.apply(lambda x: x.replace(\";\", \"\"))\n",
    "# Commas\n",
    "speech = speech.apply(lambda x: x.replace(\",\", \"\"))\n",
    "# Periods\n",
    "speech = speech.apply(lambda x: x.replace(\".\", \"\"))"
   ]
  },
  {
   "cell_type": "code",
   "execution_count": 466,
   "metadata": {},
   "outputs": [
    {
     "data": {
      "text/html": [
       "<div>\n",
       "<style scoped>\n",
       "    .dataframe tbody tr th:only-of-type {\n",
       "        vertical-align: middle;\n",
       "    }\n",
       "\n",
       "    .dataframe tbody tr th {\n",
       "        vertical-align: top;\n",
       "    }\n",
       "\n",
       "    .dataframe thead th {\n",
       "        text-align: right;\n",
       "    }\n",
       "</style>\n",
       "<table border=\"1\" class=\"dataframe\">\n",
       "  <thead>\n",
       "    <tr style=\"text-align: right;\">\n",
       "      <th></th>\n",
       "      <th>Party</th>\n",
       "      <th>Text</th>\n",
       "    </tr>\n",
       "  </thead>\n",
       "  <tbody>\n",
       "    <tr>\n",
       "      <th>0</th>\n",
       "      <td>Republican</td>\n",
       "      <td>lieutenant governor ainsworth pro tempore mars...</td>\n",
       "    </tr>\n",
       "    <tr>\n",
       "      <th>1</th>\n",
       "      <td>Republican</td>\n",
       "      <td>just over 48 hours ago mother nature’s wrath –...</td>\n",
       "    </tr>\n",
       "    <tr>\n",
       "      <th>2</th>\n",
       "      <td>Republican</td>\n",
       "      <td>at least 23 innocent lives were lost</td>\n",
       "    </tr>\n",
       "    <tr>\n",
       "      <th>3</th>\n",
       "      <td>Republican</td>\n",
       "      <td>young children who had barely experienced life</td>\n",
       "    </tr>\n",
       "    <tr>\n",
       "      <th>4</th>\n",
       "      <td>Republican</td>\n",
       "      <td>mothers fathers friends and neighbors</td>\n",
       "    </tr>\n",
       "  </tbody>\n",
       "</table>\n",
       "</div>"
      ],
      "text/plain": [
       "        Party                                               Text\n",
       "0  Republican  lieutenant governor ainsworth pro tempore mars...\n",
       "1  Republican  just over 48 hours ago mother nature’s wrath –...\n",
       "2  Republican               at least 23 innocent lives were lost\n",
       "3  Republican     young children who had barely experienced life\n",
       "4  Republican              mothers fathers friends and neighbors"
      ]
     },
     "execution_count": 466,
     "metadata": {},
     "output_type": "execute_result"
    }
   ],
   "source": [
    "# Add cleaned text to a new copy of \"gov\" dataset\n",
    "state = gov.copy()\n",
    "state[\"Text\"] = speech\n",
    "# Filter dataset to use only \"Party\" and \"Text\" columns for text analysis\n",
    "state = state[[\"Party\", \"Text\"]]\n",
    "state.head()"
   ]
  },
  {
   "cell_type": "code",
   "execution_count": 467,
   "metadata": {},
   "outputs": [
    {
     "name": "stdout",
     "output_type": "stream",
     "text": [
      "3383\n",
      "2669\n"
     ]
    }
   ],
   "source": [
    "# Demographics of final dataset\n",
    "print(len(state[state.Party == \"Republican\"]))\n",
    "print(len(state[state.Party == \"Democrat\"]))"
   ]
  },
  {
   "cell_type": "code",
   "execution_count": 468,
   "metadata": {},
   "outputs": [
    {
     "name": "stderr",
     "output_type": "stream",
     "text": [
      "[nltk_data] Downloading package stopwords to\n",
      "[nltk_data]     C:\\Users\\jwoff\\AppData\\Roaming\\nltk_data...\n",
      "[nltk_data]   Package stopwords is already up-to-date!\n"
     ]
    },
    {
     "data": {
      "text/plain": [
       "True"
      ]
     },
     "execution_count": 468,
     "metadata": {},
     "output_type": "execute_result"
    }
   ],
   "source": [
    "import nltk\n",
    "nltk.download('stopwords')"
   ]
  },
  {
   "cell_type": "code",
   "execution_count": 469,
   "metadata": {},
   "outputs": [],
   "source": [
    "# Remove stop words\n",
    "from nltk.corpus import stopwords\n",
    "stop = stopwords.words('english')\n",
    "stop.extend([\"us\", \"state\", \"new\", \"then\", \"them\", \"make\", \"every\", \"people\", \"we\", \"one\", \"year\", \"years\", \"work\", \"also\", \"way\", \"great\", \"time\", \"know\", \"re\", \"ve\", \"thats\", \"ever\", \"everyone\", \"today\", \"must\", \"want\", \"get\", \"need\", \"we\", \"together\", \"let\", \"like\", \"many\", \"it\", \"going\"])\n",
    "state['Text'] = state['Text'].apply(lambda x: ' '.join([word for word in x.split() if word not in (stop)]))"
   ]
  },
  {
   "cell_type": "markdown",
   "metadata": {},
   "source": [
    "# Most common words (that aren't stopwords) from the speeches:"
   ]
  },
  {
   "cell_type": "code",
   "execution_count": 470,
   "metadata": {},
   "outputs": [],
   "source": [
    "# Create function using CountVectorizer\n",
    "from sklearn.feature_extraction.text import CountVectorizer\n",
    "def get_top_n_words(text, n=None):\n",
    "    vec = CountVectorizer().fit(text)\n",
    "    all_words = vec.transform(text)\n",
    "    sum_words = all_words.sum(axis=0) \n",
    "    words_freq = [(word, sum_words[0, idx]) for word, idx in     vec.vocabulary_.items()]\n",
    "    words_freq = sorted(words_freq, key = lambda x: x[1], reverse=True)\n",
    "    return words_freq[:n]"
   ]
  },
  {
   "cell_type": "code",
   "execution_count": 471,
   "metadata": {},
   "outputs": [
    {
     "name": "stdout",
     "output_type": "stream",
     "text": [
      "education 441\n",
      "we 393\n",
      "school 387\n",
      "first 361\n",
      "health 359\n",
      "budget 354\n",
      "million 337\n",
      "help 325\n",
      "tax 325\n",
      "last 324\n",
      "working 319\n",
      "students 305\n",
      "it 298\n",
      "care 283\n",
      "jobs 282\n"
     ]
    }
   ],
   "source": [
    "# Most Common Words generally\n",
    "common = get_top_n_words(state[\"Text\"], 15)\n",
    "for word, freq in common:\n",
    "    print(word, freq)"
   ]
  },
  {
   "cell_type": "code",
   "execution_count": 472,
   "metadata": {},
   "outputs": [
    {
     "name": "stdout",
     "output_type": "stream",
     "text": [
      "education 255\n",
      "school 245\n",
      "million 230\n",
      "last 197\n",
      "tax 197\n",
      "first 196\n",
      "help 187\n",
      "budget 178\n",
      "students 164\n",
      "we 161\n",
      "south 158\n",
      "government 156\n",
      "working 152\n",
      "would 149\n",
      "health 147\n",
      "public 146\n",
      "better 144\n",
      "it 141\n",
      "system 138\n",
      "business 135\n"
     ]
    }
   ],
   "source": [
    "# Republican Most Common Words\n",
    "rep = state[state.Party == \"Republican\"]\n",
    "common_r = get_top_n_words(rep[\"Text\"], 20)\n",
    "for word, freq in common_r:\n",
    "    print(word, freq)"
   ]
  },
  {
   "cell_type": "code",
   "execution_count": 473,
   "metadata": {},
   "outputs": [
    {
     "name": "stdout",
     "output_type": "stream",
     "text": [
      "we 232\n",
      "health 212\n",
      "education 186\n",
      "care 180\n",
      "budget 176\n",
      "working 167\n",
      "first 165\n",
      "families 165\n",
      "jobs 160\n",
      "it 157\n",
      "good 148\n",
      "school 142\n",
      "students 141\n",
      "help 138\n",
      "children 138\n",
      "re 135\n",
      "ve 132\n",
      "economy 129\n",
      "tax 128\n",
      "last 127\n"
     ]
    }
   ],
   "source": [
    "# Democrat Most Common Words\n",
    "dem = state[state.Party == \"Democrat\"]\n",
    "common_d = get_top_n_words(dem[\"Text\"], 20)\n",
    "for word, freq in common_d:\n",
    "    print(word, freq)"
   ]
  },
  {
   "cell_type": "markdown",
   "metadata": {},
   "source": [
    "# Perform a kmeans clustering on the text of the speeches."
   ]
  },
  {
   "cell_type": "code",
   "execution_count": 474,
   "metadata": {},
   "outputs": [],
   "source": [
    "# Use TF-IDF vectorizer\n",
    "from sklearn.feature_extraction.text import TfidfVectorizer\n",
    "tf = TfidfVectorizer()\n",
    "X = tf.fit_transform(state[\"Text\"])"
   ]
  },
  {
   "cell_type": "markdown",
   "metadata": {},
   "source": [
    "### How many clusters best summarizes the data?"
   ]
  },
  {
   "cell_type": "code",
   "execution_count": 475,
   "metadata": {},
   "outputs": [],
   "source": [
    "from sklearn.cluster import KMeans\n",
    "wcss = []\n",
    "for k in range(5,51,5):\n",
    "    kmeans = KMeans(n_clusters=k)\n",
    "    kmeans.fit(X)\n",
    "    wcss.append(kmeans.inertia_)"
   ]
  },
  {
   "cell_type": "code",
   "execution_count": 476,
   "metadata": {},
   "outputs": [
    {
     "data": {
      "text/plain": [
       "Text(0, 0.5, 'WCSS')"
      ]
     },
     "execution_count": 476,
     "metadata": {},
     "output_type": "execute_result"
    },
    {
     "data": {
      "image/png": "[encoded data removed]",
      "text/plain": [
       "<Figure size 432x288 with 1 Axes>"
      ]
     },
     "metadata": {
      "needs_background": "light"
     },
     "output_type": "display_data"
    }
   ],
   "source": [
    "plt.plot(np.arange(5,51,5),wcss,marker=\"o\")\n",
    "plt.xlabel('Number of Clusters, K')\n",
    "plt.ylabel('WCSS')"
   ]
  },
  {
   "cell_type": "markdown",
   "metadata": {},
   "source": [
    "### The most notable bend occurs at 30 clusters. Use k = 30."
   ]
  },
  {
   "cell_type": "code",
   "execution_count": 477,
   "metadata": {},
   "outputs": [],
   "source": [
    "km = KMeans(30)\n",
    "km.fit(X)\n",
    "labs = kmeans.predict(X)"
   ]
  },
  {
   "cell_type": "code",
   "execution_count": 478,
   "metadata": {},
   "outputs": [],
   "source": [
    "from sklearn.decomposition import TruncatedSVD\n",
    "svd = TruncatedSVD(n_components=20)\n",
    "comps = svd.fit_transform(X)"
   ]
  },
  {
   "cell_type": "code",
   "execution_count": 479,
   "metadata": {},
   "outputs": [
    {
     "data": {
      "text/plain": [
       "<matplotlib.collections.PathCollection at 0x1444cfeb430>"
      ]
     },
     "execution_count": 479,
     "metadata": {},
     "output_type": "execute_result"
    },
    {
     "data": {
      "image/png": "[encoded data removed]",
      "text/plain": [
       "<Figure size 432x288 with 1 Axes>"
      ]
     },
     "metadata": {
      "needs_background": "light"
     },
     "output_type": "display_data"
    }
   ],
   "source": [
    "plt.scatter(comps[:,0], comps[:,1], c=kmeans.labels_)"
   ]
  },
  {
   "cell_type": "markdown",
   "metadata": {},
   "source": [
    "##### It is a lot harder to tell how much seperation there is when using 30 clusters, but given that there were two clusters that were notably distinct from the rest of the points in the scatterplot, I trust the data to say the seperation between the clusters is good enough to move forward."
   ]
  },
  {
   "cell_type": "markdown",
   "metadata": {},
   "source": [
    "### Interpret the clusters based on the top words of each cluster."
   ]
  },
  {
   "cell_type": "code",
   "execution_count": 480,
   "metadata": {},
   "outputs": [
    {
     "name": "stdout",
     "output_type": "stream",
     "text": [
      "Cluster 0: first last two public states right day law come history\n",
      "Cluster 1: would said told create got tell less day good working\n",
      "Cluster 2: million dollars budget additional funding investment fund includes increase 100\n",
      "Cluster 3: jobs economy growth economic good development paying clean energy create\n",
      "Cluster 4: better future lives place even families working believe elected opportunities\n",
      "Cluster 5: education higher system public funding students quality opportunity early budget\n",
      "Cluster 6: ve we done got seen it made better successful success\n",
      "Cluster 7: mr members speaker president fellow guests distinguished chief justice assembly\n",
      "Cluster 8: bless god thank may america united states continue commonwealth lets\n",
      "Cluster 9: care health costs access affordable medicaid hospitals provide system needs\n",
      "Cluster 10: help can families nebraska crisis grow please opportunity successes team\n",
      "Cluster 11: see already right working law would opportunity that something last\n",
      "Cluster 12: future generations invest change workforce alaska strong foundation needs plan\n",
      "Cluster 13: promise kentucky fulfill come team commonwealth life opportunity good better\n",
      "Cluster 14: improve kids education system plan outcomes early that quality give\n",
      "Cluster 15: teachers students pay raise teacher schools deserve classroom retain best\n",
      "Cluster 16: community across communities leaders recognizing missouri please join colleges mrs\n",
      "Cluster 17: school students high college districts schools graduate career education degree\n",
      "Cluster 18: business nation best small stop owners country nevada first believe\n",
      "Cluster 19: texas opportunity veterans america across nation home better economic business\n",
      "Cluster 20: children parents families education child foster care early support sure\n",
      "Cluster 21: thank service leadership you much tonight welcome governor good representative\n",
      "Cluster 22: family said place different world raise tell live nevada last\n",
      "Cluster 23: workforce companies development businesses business skilled opportunity talent training jobs\n",
      "Cluster 24: good second continue chance system child ll invest policy we\n",
      "Cluster 25: life quality colorado families protecting good economy pro day safe\n",
      "Cluster 26: health mental services schools public behavioral school funding addiction crisis\n",
      "Cluster 27: made progress moment ve believe history investments take last past\n",
      "Cluster 28: common talk ground sense find forward finding kentuckians much north\n",
      "Cluster 29: working take months hard per taken wage long first hundreds\n"
     ]
    }
   ],
   "source": [
    "order_centroids = kmeans.cluster_centers_.argsort()[:, ::-1]\n",
    "terms = tf.get_feature_names()\n",
    "for i in range(30):\n",
    "    print(\"Cluster %d:\" % i, end='')\n",
    "    for ind in order_centroids[i, :10]:\n",
    "        print(' %s' % terms[ind], end='')\n",
    "    print()"
   ]
  },
  {
   "cell_type": "markdown",
   "metadata": {},
   "source": [
    "##### From these clusters, I identified seven different \"themes\" to group these clusters into (the theme itself is capitalized).\n",
    "##### The largest group of clusters talked about the WORKFORCE, such as creating job opportunities, supporting small businesses, and improving the economy (found in Clusters 1, 3, 12, 18, 19, 23, and 29). \n",
    "##### EDUCATION was the next most popular theme, including mentions about teacher pay, higher education funding, and other beneficial services for children with concerns like mental health and addiction (found in Clusters 5, 14, 15, 17, and 26).\n",
    "##### Another common theme was about HEALTHCARE, including making it affordable and providing appropriate services (found in Clusters 9 and 26). \n",
    "##### I was a little surprised that the BUDGET and FINANCIAL-related matters didn't get more attention from the clusters, as only Cluster 2 seemed to mention it. \n",
    "##### I did not expect to see so many clusters talk about QUALITY OF LIVING, including public safety, individual rights, and second-chance policies (found in Clusters 0, 4, 11, 13, 22, 24, and 25).\n",
    "##### It was refreshing to see that the FAMILY UNIT had a couple clusters, mentioning about topics such as foster care and child support (found in Clusters 10 and 20). \n",
    "##### The last theme was more fluffy, feel-good ACKNOWLEDGEMENTS, such as recognizing distinguished officials, providing optimism for the future, and hopes of God blessing America (found in Clusters 6, 7, 8, 16, 21, 27, and 28)."
   ]
  },
  {
   "cell_type": "markdown",
   "metadata": {},
   "source": [
    "# Build a model that uses the speech text to classify which political party the speech came from."
   ]
  },
  {
   "cell_type": "code",
   "execution_count": 481,
   "metadata": {},
   "outputs": [],
   "source": [
    "from sklearn.model_selection import train_test_split\n",
    "# Create the training and testings sets. Use test_size = 0.4 and random_state = 713.\n",
    "train, test = train_test_split(state, test_size = 0.4, stratify = state.Party, random_state = 713)"
   ]
  },
  {
   "cell_type": "code",
   "execution_count": 482,
   "metadata": {},
   "outputs": [
    {
     "name": "stdout",
     "output_type": "stream",
     "text": [
      "Train: (3631, 2)\n",
      "Test: (2421, 2)\n"
     ]
    }
   ],
   "source": [
    "# View the shapes of training and testing sets.\n",
    "print(\"Train:\", train.shape)\n",
    "print(\"Test:\", test.shape)"
   ]
  },
  {
   "cell_type": "code",
   "execution_count": 483,
   "metadata": {},
   "outputs": [
    {
     "data": {
      "text/html": [
       "<div>\n",
       "<style scoped>\n",
       "    .dataframe tbody tr th:only-of-type {\n",
       "        vertical-align: middle;\n",
       "    }\n",
       "\n",
       "    .dataframe tbody tr th {\n",
       "        vertical-align: top;\n",
       "    }\n",
       "\n",
       "    .dataframe thead th {\n",
       "        text-align: right;\n",
       "    }\n",
       "</style>\n",
       "<table border=\"1\" class=\"dataframe\">\n",
       "  <thead>\n",
       "    <tr style=\"text-align: right;\">\n",
       "      <th></th>\n",
       "      <th>Party</th>\n",
       "      <th>Text</th>\n",
       "    </tr>\n",
       "  </thead>\n",
       "  <tbody>\n",
       "    <tr>\n",
       "      <th>3025</th>\n",
       "      <td>Republican</td>\n",
       "      <td>however …</td>\n",
       "    </tr>\n",
       "    <tr>\n",
       "      <th>2569</th>\n",
       "      <td>Republican</td>\n",
       "      <td>next 90 days army operators tradespeople first...</td>\n",
       "    </tr>\n",
       "    <tr>\n",
       "      <th>5083</th>\n",
       "      <td>Republican</td>\n",
       "      <td>cost business imposed heavy-handed special int...</td>\n",
       "    </tr>\n",
       "    <tr>\n",
       "      <th>4098</th>\n",
       "      <td>Republican</td>\n",
       "      <td>never competitive dont keep paying attention r...</td>\n",
       "    </tr>\n",
       "    <tr>\n",
       "      <th>691</th>\n",
       "      <td>Democrat</td>\n",
       "      <td>look easy would done already progress always h...</td>\n",
       "    </tr>\n",
       "  </tbody>\n",
       "</table>\n",
       "</div>"
      ],
      "text/plain": [
       "           Party                                               Text\n",
       "3025  Republican                                          however …\n",
       "2569  Republican  next 90 days army operators tradespeople first...\n",
       "5083  Republican  cost business imposed heavy-handed special int...\n",
       "4098  Republican  never competitive dont keep paying attention r...\n",
       "691     Democrat  look easy would done already progress always h..."
      ]
     },
     "execution_count": 483,
     "metadata": {},
     "output_type": "execute_result"
    }
   ],
   "source": [
    "# View the testing set\n",
    "test.head()"
   ]
  },
  {
   "cell_type": "code",
   "execution_count": 484,
   "metadata": {},
   "outputs": [
    {
     "name": "stdout",
     "output_type": "stream",
     "text": [
      "0.4409253649132471\n",
      "0.5588599752168525\n"
     ]
    }
   ],
   "source": [
    "# View demographics of training and testing sets\n",
    "y_train = (train['Party'] == 'Republican').astype(int)\n",
    "y_test = (test['Party'] == 'Republican').astype(int)\n",
    "print(1-y_train.mean())\n",
    "print(y_test.mean())"
   ]
  },
  {
   "cell_type": "code",
   "execution_count": 485,
   "metadata": {},
   "outputs": [],
   "source": [
    "# To keep the X matrix from being too large, use min_df = 50.\n",
    "from sklearn.feature_extraction.text import TfidfVectorizer\n",
    "tfidf = TfidfVectorizer(min_df = 50)"
   ]
  },
  {
   "cell_type": "code",
   "execution_count": 486,
   "metadata": {},
   "outputs": [],
   "source": [
    "# Be sure that all model development is with the training data\n",
    "tfidf.fit(train['Text'])\n",
    "X_train = tfidf.transform(train['Text'])\n",
    "X_test = tfidf.transform(test['Text'])"
   ]
  },
  {
   "cell_type": "markdown",
   "metadata": {},
   "source": [
    "### Using the default tuning parameter values, fit models using Multinomial Naive Bayes, Decision Tree, Random Forest, and Gradient Boosting."
   ]
  },
  {
   "cell_type": "code",
   "execution_count": 487,
   "metadata": {},
   "outputs": [],
   "source": [
    "# Build classifiers\n",
    "from sklearn.naive_bayes import MultinomialNB\n",
    "from sklearn.tree import DecisionTreeClassifier\n",
    "from sklearn.ensemble import RandomForestClassifier, GradientBoostingClassifier\n",
    "from sklearn.neural_network import MLPClassifier"
   ]
  },
  {
   "cell_type": "code",
   "execution_count": 488,
   "metadata": {},
   "outputs": [],
   "source": [
    "# Multinomial Naive Bayes\n",
    "nb = MultinomialNB()\n",
    "nb.fit(X_train, y_train)\n",
    "yhat_nb = nb.predict(X_test)\n",
    "y_nb_prob = nb.predict_proba(X_test)[:,1]"
   ]
  },
  {
   "cell_type": "code",
   "execution_count": 489,
   "metadata": {},
   "outputs": [],
   "source": [
    "# Decision Tree\n",
    "dtr = DecisionTreeClassifier()\n",
    "dtr.fit(X_train, y_train)\n",
    "yhat_dtr = dtr.predict(X_test)\n",
    "y_dtr_prob = dtr.predict_proba(X_test)[:,1]"
   ]
  },
  {
   "cell_type": "code",
   "execution_count": 490,
   "metadata": {},
   "outputs": [],
   "source": [
    "# Random Forest\n",
    "rf = RandomForestClassifier()\n",
    "rf.fit(X_train, y_train)\n",
    "yhat_rf = rf.predict(X_test)\n",
    "y_rf_prob = rf.predict_proba(X_test)[:,1]"
   ]
  },
  {
   "cell_type": "code",
   "execution_count": 491,
   "metadata": {},
   "outputs": [],
   "source": [
    "# Gradient Boosting\n",
    "grb = GradientBoostingClassifier()\n",
    "grb.fit(X_train, y_train)\n",
    "yhat_grb = grb.predict(X_test)\n",
    "y_grb_prob = grb.predict_proba(X_test)[:,1]"
   ]
  },
  {
   "cell_type": "markdown",
   "metadata": {},
   "source": [
    "### What model performs the best?"
   ]
  },
  {
   "cell_type": "code",
   "execution_count": 492,
   "metadata": {},
   "outputs": [],
   "source": [
    "from sklearn.metrics import confusion_matrix, f1_score, roc_auc_score, roc_curve, accuracy_score, precision_score, recall_score"
   ]
  },
  {
   "cell_type": "code",
   "execution_count": 493,
   "metadata": {},
   "outputs": [],
   "source": [
    "# Create plot_roc_curve function to generate ROC curve.\n",
    "def plot_roc_curve(fpr, tpr):\n",
    "    plt.plot(fpr, tpr, color='orange', label='ROC')\n",
    "    plt.plot([0, 1], [0, 1], color='darkblue', linestyle='--')\n",
    "    plt.xlabel('False Positive Rate')\n",
    "    plt.ylabel('True Positive Rate')\n",
    "    plt.title('Receiver Operating Characteristic (ROC) Curve')\n",
    "    plt.legend()\n",
    "    plt.show()"
   ]
  },
  {
   "cell_type": "code",
   "execution_count": 494,
   "metadata": {},
   "outputs": [
    {
     "name": "stdout",
     "output_type": "stream",
     "text": [
      "[[ 367  701]\n",
      " [ 255 1098]]\n",
      " \n",
      "Accuracy:  0.6051218504750103\n",
      "F1 Score:  0.6967005076142132\n",
      "Precision: 0.6103390772651474\n",
      "Recall:    0.811529933481153\n",
      "AUC:       0.6396411359414922\n"
     ]
    },
    {
     "data": {
      "image/png": "[encoded data removed]",
      "text/plain": [
       "<Figure size 432x288 with 1 Axes>"
      ]
     },
     "metadata": {
      "needs_background": "light"
     },
     "output_type": "display_data"
    }
   ],
   "source": [
    "# Multinomial Naive Bayes Metrics\n",
    "print(confusion_matrix(y_test, yhat_nb))\n",
    "print(\" \")\n",
    "print(\"Accuracy: \", accuracy_score(y_test, yhat_nb))\n",
    "print(\"F1 Score: \", f1_score(y_test, yhat_nb))\n",
    "print(\"Precision:\", precision_score(y_test, yhat_nb))\n",
    "print(\"Recall:   \", recall_score(y_test, yhat_nb))\n",
    "print(\"AUC:      \", roc_auc_score(y_test, y_nb_prob))\n",
    "\n",
    "fpr, tpr, thresh = roc_curve(y_test, y_nb_prob)\n",
    "plot_roc_curve(fpr, tpr)"
   ]
  },
  {
   "cell_type": "code",
   "execution_count": 495,
   "metadata": {},
   "outputs": [
    {
     "name": "stdout",
     "output_type": "stream",
     "text": [
      "[[509 559]\n",
      " [526 827]]\n",
      "\n",
      "Accuracy:  0.5518380834365965\n",
      "F1 Score:  0.6038700255567725\n",
      "Precision: 0.5966810966810967\n",
      "Recall:    0.6112342941611234\n",
      "AUC:       0.5619081331262751\n"
     ]
    },
    {
     "data": {
      "image/png": "[encoded data removed]",
      "text/plain": [
       "<Figure size 432x288 with 1 Axes>"
      ]
     },
     "metadata": {
      "needs_background": "light"
     },
     "output_type": "display_data"
    }
   ],
   "source": [
    "# Decision Tree Metrics\n",
    "print(confusion_matrix(y_test, yhat_dtr))\n",
    "print(\"\")\n",
    "print(\"Accuracy: \", accuracy_score(y_test, yhat_dtr))\n",
    "print(\"F1 Score: \", f1_score(y_test, yhat_dtr))\n",
    "print(\"Precision:\", precision_score(y_test, yhat_dtr))\n",
    "print(\"Recall:   \", recall_score(y_test, yhat_dtr))\n",
    "print(\"AUC:      \", roc_auc_score(y_test, y_dtr_prob))\n",
    "\n",
    "fpr, tpr, thresh = roc_curve(y_test, y_dtr_prob)\n",
    "plot_roc_curve(fpr, tpr)"
   ]
  },
  {
   "cell_type": "code",
   "execution_count": 496,
   "metadata": {},
   "outputs": [
    {
     "name": "stdout",
     "output_type": "stream",
     "text": [
      "[[487 581]\n",
      " [436 917]]\n",
      " \n",
      "Accuracy:  0.5799256505576208\n",
      "F1 Score:  0.6432830585759383\n",
      "Precision: 0.6121495327102804\n",
      "Recall:    0.6777531411677753\n",
      "AUC:       0.6069564513316226\n"
     ]
    },
    {
     "data": {
      "image/png": "[encoded data removed]",
      "text/plain": [
       "<Figure size 432x288 with 1 Axes>"
      ]
     },
     "metadata": {
      "needs_background": "light"
     },
     "output_type": "display_data"
    }
   ],
   "source": [
    "# Random Forest Metrics\n",
    "print(confusion_matrix(y_test, yhat_rf))\n",
    "print(\" \")\n",
    "print(\"Accuracy: \", accuracy_score(y_test, yhat_rf))\n",
    "print(\"F1 Score: \", f1_score(y_test, yhat_rf))\n",
    "print(\"Precision:\", precision_score(y_test, yhat_rf))\n",
    "print(\"Recall:   \", recall_score(y_test, yhat_rf))\n",
    "print(\"AUC:      \", roc_auc_score(y_test, y_rf_prob))\n",
    "\n",
    "fpr, tpr, thresh = roc_curve(y_test, y_rf_prob)\n",
    "plot_roc_curve(fpr, tpr)"
   ]
  },
  {
   "cell_type": "code",
   "execution_count": 497,
   "metadata": {},
   "outputs": [
    {
     "name": "stdout",
     "output_type": "stream",
     "text": [
      "[[ 320  748]\n",
      " [ 215 1138]]\n",
      " \n",
      "Accuracy:  0.6022304832713755\n",
      "F1 Score:  0.7026860142019141\n",
      "Precision: 0.6033934252386002\n",
      "Recall:    0.8410938654841094\n",
      "AUC:       0.6252823521595788\n"
     ]
    },
    {
     "data": {
      "image/png": "[encoded data removed]",
      "text/plain": [
       "<Figure size 432x288 with 1 Axes>"
      ]
     },
     "metadata": {
      "needs_background": "light"
     },
     "output_type": "display_data"
    }
   ],
   "source": [
    "# Gradient Boosting Metrics\n",
    "print(confusion_matrix(y_test, yhat_grb))\n",
    "print(\" \")\n",
    "print(\"Accuracy: \", accuracy_score(y_test, yhat_grb))\n",
    "print(\"F1 Score: \", f1_score(y_test, yhat_grb))\n",
    "print(\"Precision:\", precision_score(y_test, yhat_grb))\n",
    "print(\"Recall:   \", recall_score(y_test, yhat_grb))\n",
    "print(\"AUC:      \", roc_auc_score(y_test, y_grb_prob))\n",
    "\n",
    "fpr, tpr, thresh = roc_curve(y_test, y_grb_prob)\n",
    "plot_roc_curve(fpr, tpr)"
   ]
  },
  {
   "cell_type": "markdown",
   "metadata": {},
   "source": [
    "### I felt it was best to use the Multinomial Naive Bayes model.\n",
    "##### The following are the metrics from this model: Accuracy = 0.6051, F1 Score = 0.6967, Precision = 0.6103, Recall = 0.8115, AUC = 0.6396"
   ]
  },
  {
   "cell_type": "markdown",
   "metadata": {},
   "source": [
    "### Compare potential important features between the two political parties for the Multinomial Naive Bayes model."
   ]
  },
  {
   "cell_type": "code",
   "execution_count": 498,
   "metadata": {},
   "outputs": [],
   "source": [
    "# Create 'importance' dataframe for Multinomial Naive Bayes model\n",
    "importance_nb = pd.DataFrame()\n",
    "importance_nb['words'] = tfidf.get_feature_names()\n",
    "# Convert log probabilities to probabilities. \n",
    "importance_nb['Importance_Dem'] = np.e**(nb.feature_log_prob_[0, :])\n",
    "importance_nb['Importance_Rep'] = np.e**(nb.feature_log_prob_[1, :])\n",
    "importance_nb.set_index('words', inplace=True)"
   ]
  },
  {
   "cell_type": "code",
   "execution_count": 499,
   "metadata": {},
   "outputs": [
    {
     "name": "stdout",
     "output_type": "stream",
     "text": [
      "words\n",
      "expand      0.003434\n",
      "programs    0.003433\n",
      "real        0.003412\n",
      "means       0.003367\n",
      "progress    0.003357\n",
      "already     0.003353\n",
      "college     0.003216\n",
      "young       0.003203\n",
      "rural       0.003198\n",
      "water       0.003149\n",
      "lead        0.003140\n",
      "raise       0.002868\n",
      "end         0.002847\n",
      "don         0.002749\n",
      "ll          0.002748\n",
      "child       0.002723\n",
      "cost        0.002653\n",
      "small       0.002578\n",
      "sure        0.002389\n",
      "start       0.001995\n",
      "Name: Importance_Rep, dtype: float64\n"
     ]
    }
   ],
   "source": [
    "# Find important words specifically for Democrat speeches\n",
    "print(importance_nb[\"Importance_Rep\"].sort_values(ascending = False)[len(importance_nb[\"Importance_Rep\"])-20:,])"
   ]
  },
  {
   "cell_type": "code",
   "execution_count": 500,
   "metadata": {},
   "outputs": [
    {
     "name": "stdout",
     "output_type": "stream",
     "text": [
      "words\n",
      "local             0.003278\n",
      "fund              0.003255\n",
      "expand            0.003216\n",
      "percent           0.003203\n",
      "hope              0.003202\n",
      "opportunities     0.003187\n",
      "administration    0.003173\n",
      "investment        0.003164\n",
      "got               0.003060\n",
      "department        0.002920\n",
      "growth            0.002909\n",
      "another           0.002875\n",
      "plan              0.002735\n",
      "protect           0.002718\n",
      "worked            0.002646\n",
      "rate              0.002597\n",
      "tell              0.002026\n",
      "second            0.001705\n",
      "south             0.000665\n",
      "dakota            0.000320\n",
      "Name: Importance_Dem, dtype: float64\n"
     ]
    }
   ],
   "source": [
    "# Find words important specifically for Republican speeches\n",
    "print(importance_nb[\"Importance_Dem\"].sort_values(ascending = False)[len(importance_nb[\"Importance_Dem\"])-20:,])"
   ]
  },
  {
   "cell_type": "markdown",
   "metadata": {},
   "source": [
    "##### One potential connection in the \"important\" Democrat list comes from the words \"child\", \"raise\", \"young\", and \"college\". There might be the occasional instance that \"programs\" applies to this as well. I don't think this directly correlates to the KMeans cluster theme of education, but it seems like Democratic governors have more interest about the future citizens of their states. \n",
    "##### Republican governors seem more likely to use words such as \"rate\", \"growth\", \"expand\", and \"investment\". It is harder to pinpoint these words to any one theme, but these words likely indicate a deeper focus on the trajectory and speed of the productivity and prosperity of the state. In other words, they care about how things are going now. \n",
    "### Based on these features, while there were no notable differences in the actual policies spoken of, there does seem to be a distinction in the emphasized timeframe. Democrats seem more likely to focus on the future, while Republicans prioritize the present."
   ]
  }
 ],
 "metadata": {
  "kernelspec": {
   "display_name": "Python 3",
   "language": "python",
   "name": "python3"
  },
  "language_info": {
   "codemirror_mode": {
    "name": "ipython",
    "version": 3
   },
   "file_extension": ".py",
   "mimetype": "text/x-python",
   "name": "python",
   "nbconvert_exporter": "python",
   "pygments_lexer": "ipython3",
   "version": "3.8.3"
  }
 },
 "nbformat": 4,
 "nbformat_minor": 4
}
